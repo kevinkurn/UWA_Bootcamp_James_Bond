{
 "cells": [
  {
   "cell_type": "markdown",
   "metadata": {
    "slideshow": {
     "slide_type": "slide"
    }
   },
   "source": [
    "## Dependencies"
   ]
  },
  {
   "cell_type": "code",
   "execution_count": 1,
   "metadata": {
    "slideshow": {
     "slide_type": "fragment"
    }
   },
   "outputs": [],
   "source": [
    "# Dependencies to Visualize the model\n",
    "import matplotlib.pyplot as plt\n",
    "import numpy as np\n",
    "import pandas as pd\n",
    "import datetime as dt\n",
    "\n",
    "import sqlalchemy\n",
    "from sqlalchemy.ext.automap import automap_base\n",
    "from sqlalchemy.orm import Session\n",
    "from sqlalchemy import create_engine, func, inspect\n",
    "from sqlalchemy.ext.declarative import declarative_base\n",
    "from sqlalchemy import Column, Integer, String, Float \n",
    "# from config import postgresql_pword\n",
    "\n",
    "from flask import Flask, jsonify, render_template"
   ]
  },
  {
   "cell_type": "code",
   "execution_count": 4,
   "metadata": {},
   "outputs": [],
   "source": [
    "#establish connection to SQL database in AWS - refer to https://stackoverflow.com/questions/54300263/connect-to-aws-rds-postgres-database-with-python/54313925\n",
    "endpoint= 'james-bond-uwa-db.cbbzivxykkl5.ap-southeast-2.rds.amazonaws.com'\n",
    "username='postgres'\n",
    "password='postgres'\n",
    "\n",
    "engine = create_engine(f'postgresql://{username}:{password}@{endpoint}:5432/James_Bond')\n",
    "conn = engine.connect()"
   ]
  },
  {
   "cell_type": "code",
   "execution_count": 5,
   "metadata": {},
   "outputs": [],
   "source": [
    "#extract the sql table and turn it into a dataframe\n",
    "session=Session(engine)\n",
    "bond_data=pd.read_sql_table(\"james_bond_data\", conn)\n",
    "session.close()"
   ]
  },
  {
   "cell_type": "code",
   "execution_count": 6,
   "metadata": {},
   "outputs": [
    {
     "data": {
      "text/html": [
       "<div>\n",
       "<style scoped>\n",
       "    .dataframe tbody tr th:only-of-type {\n",
       "        vertical-align: middle;\n",
       "    }\n",
       "\n",
       "    .dataframe tbody tr th {\n",
       "        vertical-align: top;\n",
       "    }\n",
       "\n",
       "    .dataframe thead th {\n",
       "        text-align: right;\n",
       "    }\n",
       "</style>\n",
       "<table border=\"1\" class=\"dataframe\">\n",
       "  <thead>\n",
       "    <tr style=\"text-align: right;\">\n",
       "      <th></th>\n",
       "      <th>year</th>\n",
       "      <th>movie</th>\n",
       "      <th>actor</th>\n",
       "      <th>director</th>\n",
       "      <th>composer</th>\n",
       "      <th>writer</th>\n",
       "      <th>cinematographer</th>\n",
       "      <th>film_location</th>\n",
       "      <th>shooting_location</th>\n",
       "      <th>bond_car</th>\n",
       "      <th>...</th>\n",
       "      <th>film_length</th>\n",
       "      <th>avg_imdb_rating</th>\n",
       "      <th>avg_rtn_tom_rating</th>\n",
       "      <th>conquest</th>\n",
       "      <th>martinis</th>\n",
       "      <th>bjb</th>\n",
       "      <th>kills_bond</th>\n",
       "      <th>kills_others</th>\n",
       "      <th>top_100_soundtrack</th>\n",
       "      <th>video_game</th>\n",
       "    </tr>\n",
       "  </thead>\n",
       "  <tbody>\n",
       "    <tr>\n",
       "      <th>0</th>\n",
       "      <td>1962</td>\n",
       "      <td>Dr. No</td>\n",
       "      <td>Sean Connery</td>\n",
       "      <td>Terence Young</td>\n",
       "      <td>Monty Norman</td>\n",
       "      <td>Richard Maibaum, Johanna Harwood &amp; Berkely Mather</td>\n",
       "      <td>Ted Moore</td>\n",
       "      <td>Great Britain, Jamaic</td>\n",
       "      <td>England, Jamaica</td>\n",
       "      <td>Sunbeam</td>\n",
       "      <td>...</td>\n",
       "      <td>110</td>\n",
       "      <td>7.3</td>\n",
       "      <td>7.7</td>\n",
       "      <td>3</td>\n",
       "      <td>2</td>\n",
       "      <td>1</td>\n",
       "      <td>4</td>\n",
       "      <td>8</td>\n",
       "      <td>0</td>\n",
       "      <td>0</td>\n",
       "    </tr>\n",
       "    <tr>\n",
       "      <th>1</th>\n",
       "      <td>1963</td>\n",
       "      <td>From Russia with Love</td>\n",
       "      <td>Sean Connery</td>\n",
       "      <td>Terence Young</td>\n",
       "      <td>John Barry</td>\n",
       "      <td>Richard Maibaum &amp; Johanna Harwood</td>\n",
       "      <td>Ted Moore</td>\n",
       "      <td>United Kingdom, Great Britain, Turkey, Croatia...</td>\n",
       "      <td>England, Scotland, Italy, Switzerland, Turkey</td>\n",
       "      <td>Bently</td>\n",
       "      <td>...</td>\n",
       "      <td>115</td>\n",
       "      <td>7.5</td>\n",
       "      <td>8.0</td>\n",
       "      <td>4</td>\n",
       "      <td>0</td>\n",
       "      <td>0</td>\n",
       "      <td>11</td>\n",
       "      <td>16</td>\n",
       "      <td>0</td>\n",
       "      <td>1</td>\n",
       "    </tr>\n",
       "    <tr>\n",
       "      <th>2</th>\n",
       "      <td>1964</td>\n",
       "      <td>Goldfinger</td>\n",
       "      <td>Sean Connery</td>\n",
       "      <td>Guy Hamilton</td>\n",
       "      <td>John Barry</td>\n",
       "      <td>Richard Maibaum &amp; Paul Dehn</td>\n",
       "      <td>Ted Moore</td>\n",
       "      <td>United States, Great Britain, Switzerland</td>\n",
       "      <td>England, Switzerland, United States</td>\n",
       "      <td>Aston Martin</td>\n",
       "      <td>...</td>\n",
       "      <td>110</td>\n",
       "      <td>7.8</td>\n",
       "      <td>8.4</td>\n",
       "      <td>2</td>\n",
       "      <td>1</td>\n",
       "      <td>2</td>\n",
       "      <td>9</td>\n",
       "      <td>68</td>\n",
       "      <td>1</td>\n",
       "      <td>1</td>\n",
       "    </tr>\n",
       "    <tr>\n",
       "      <th>3</th>\n",
       "      <td>1965</td>\n",
       "      <td>Thunderball</td>\n",
       "      <td>Sean Connery</td>\n",
       "      <td>Terence Young</td>\n",
       "      <td>John Barry</td>\n",
       "      <td>Richard Maibaum &amp; John Hopkins</td>\n",
       "      <td>Ted Moore</td>\n",
       "      <td>France, Great Britain, Bahamas, United States</td>\n",
       "      <td>England, France, Bahamas, United States</td>\n",
       "      <td>Aston Martin</td>\n",
       "      <td>...</td>\n",
       "      <td>130</td>\n",
       "      <td>7.0</td>\n",
       "      <td>6.8</td>\n",
       "      <td>3</td>\n",
       "      <td>0</td>\n",
       "      <td>0</td>\n",
       "      <td>20</td>\n",
       "      <td>90</td>\n",
       "      <td>1</td>\n",
       "      <td>0</td>\n",
       "    </tr>\n",
       "    <tr>\n",
       "      <th>4</th>\n",
       "      <td>1967</td>\n",
       "      <td>You Only Live Twice</td>\n",
       "      <td>Sean Connery</td>\n",
       "      <td>Lewis Gilbert</td>\n",
       "      <td>John Barry</td>\n",
       "      <td>Roald Dahl</td>\n",
       "      <td>Freddie Young</td>\n",
       "      <td>United States, Russia, Kazakhstan, Norway, Japan</td>\n",
       "      <td>Japan, Spain, Norway</td>\n",
       "      <td>Toyota</td>\n",
       "      <td>...</td>\n",
       "      <td>117</td>\n",
       "      <td>6.9</td>\n",
       "      <td>6.3</td>\n",
       "      <td>3</td>\n",
       "      <td>1</td>\n",
       "      <td>0</td>\n",
       "      <td>21</td>\n",
       "      <td>175</td>\n",
       "      <td>1</td>\n",
       "      <td>0</td>\n",
       "    </tr>\n",
       "  </tbody>\n",
       "</table>\n",
       "<p>5 rows × 30 columns</p>\n",
       "</div>"
      ],
      "text/plain": [
       "   year                  movie         actor       director      composer  \\\n",
       "0  1962                 Dr. No  Sean Connery  Terence Young  Monty Norman   \n",
       "1  1963  From Russia with Love  Sean Connery  Terence Young    John Barry   \n",
       "2  1964             Goldfinger  Sean Connery   Guy Hamilton    John Barry   \n",
       "3  1965            Thunderball  Sean Connery  Terence Young    John Barry   \n",
       "4  1967    You Only Live Twice  Sean Connery  Lewis Gilbert    John Barry   \n",
       "\n",
       "                                              writer cinematographer  \\\n",
       "0  Richard Maibaum, Johanna Harwood & Berkely Mather       Ted Moore   \n",
       "1                  Richard Maibaum & Johanna Harwood       Ted Moore   \n",
       "2                        Richard Maibaum & Paul Dehn       Ted Moore   \n",
       "3                     Richard Maibaum & John Hopkins       Ted Moore   \n",
       "4                                         Roald Dahl   Freddie Young   \n",
       "\n",
       "                                       film_location  \\\n",
       "0                              Great Britain, Jamaic   \n",
       "1  United Kingdom, Great Britain, Turkey, Croatia...   \n",
       "2          United States, Great Britain, Switzerland   \n",
       "3      France, Great Britain, Bahamas, United States   \n",
       "4   United States, Russia, Kazakhstan, Norway, Japan   \n",
       "\n",
       "                               shooting_location      bond_car  ...  \\\n",
       "0                               England, Jamaica       Sunbeam  ...   \n",
       "1  England, Scotland, Italy, Switzerland, Turkey        Bently  ...   \n",
       "2            England, Switzerland, United States  Aston Martin  ...   \n",
       "3        England, France, Bahamas, United States  Aston Martin  ...   \n",
       "4                           Japan, Spain, Norway        Toyota  ...   \n",
       "\n",
       "  film_length  avg_imdb_rating  avg_rtn_tom_rating  conquest  martinis  bjb  \\\n",
       "0         110              7.3                 7.7         3         2    1   \n",
       "1         115              7.5                 8.0         4         0    0   \n",
       "2         110              7.8                 8.4         2         1    2   \n",
       "3         130              7.0                 6.8         3         0    0   \n",
       "4         117              6.9                 6.3         3         1    0   \n",
       "\n",
       "   kills_bond  kills_others  top_100_soundtrack  video_game  \n",
       "0           4             8                   0           0  \n",
       "1          11            16                   0           1  \n",
       "2           9            68                   1           1  \n",
       "3          20            90                   1           0  \n",
       "4          21           175                   1           0  \n",
       "\n",
       "[5 rows x 30 columns]"
      ]
     },
     "execution_count": 6,
     "metadata": {},
     "output_type": "execute_result"
    }
   ],
   "source": [
    "bond_data.head()"
   ]
  },
  {
   "cell_type": "code",
   "execution_count": 7,
   "metadata": {},
   "outputs": [
    {
     "data": {
      "text/plain": [
       "Index(['year', 'movie', 'actor', 'director', 'composer', 'writer',\n",
       "       'cinematographer', 'film_location', 'shooting_location', 'bond_car',\n",
       "       'bond_girl_nat', 'us_grossing', 'us_gross_adj_2013',\n",
       "       'us_gross_adj_2020', 'world_gross', 'world_gross_adj_2013',\n",
       "       'world_gross_adj_2020', 'budget', 'budget_adj_2013', 'budget_adj_2020',\n",
       "       'film_length', 'avg_imdb_rating', 'avg_rtn_tom_rating', 'conquest',\n",
       "       'martinis', 'bjb', 'kills_bond', 'kills_others', 'top_100_soundtrack',\n",
       "       'video_game'],\n",
       "      dtype='object')"
      ]
     },
     "execution_count": 7,
     "metadata": {},
     "output_type": "execute_result"
    }
   ],
   "source": [
    "bond_data.columns"
   ]
  },
  {
   "cell_type": "code",
   "execution_count": 8,
   "metadata": {},
   "outputs": [],
   "source": [
    "# Clean the dataframe by dropping irrelevant columns\n",
    "bond_data=bond_data.drop(columns =['us_grossing', 'us_gross_adj_2013','world_gross', 'world_gross_adj_2013','budget', 'budget_adj_2013'])"
   ]
  },
  {
   "cell_type": "code",
   "execution_count": 9,
   "metadata": {},
   "outputs": [],
   "source": [
    "# create a new column called actor id to turn actor name into numerical category\n",
    "bond_data['actor id']=\"\"\n",
    "actor_list=list(bond_data['actor'].unique())\n",
    "actor_id=[]\n",
    "for index, row in bond_data.iterrows():\n",
    "    for i in range(len(actor_list)):\n",
    "        if row['actor']==actor_list[i]:\n",
    "            actor_id.append(i)\n",
    "\n",
    "bond_data['actor id']=actor_id"
   ]
  },
  {
   "cell_type": "code",
   "execution_count": 10,
   "metadata": {},
   "outputs": [],
   "source": [
    "# create a new column called actor id to turn actor name into numerical category\n",
    "# bond_data['actor id']=\"\"\n",
    "# bond_data['actor'].unique()\n",
    "# actor_id=[]\n",
    "# for index, row in bond_data.iterrows():\n",
    "#     if row['actor']==\"Sean Connery\":\n",
    "#         actor_id.append(0)\n",
    "#     elif row['actor']=='George Lazenby':\n",
    "#         actor_id.append(1)\n",
    "#     elif row['actor']=='Roger Moore':\n",
    "#         actor_id.append(2)\n",
    "#     elif row['actor']=='Timothy Dalton':\n",
    "#         actor_id.append(3)\n",
    "#     elif row['actor']=='Pierce Brosnan':\n",
    "#         actor_id.append(4)\n",
    "#     elif row['actor']=='Daniel Craig':\n",
    "#         actor_id.append(5)\n",
    "\n",
    "# bond_data['actor id']=actor_id"
   ]
  },
  {
   "cell_type": "code",
   "execution_count": 11,
   "metadata": {},
   "outputs": [
    {
     "data": {
      "text/plain": [
       "year                      int64\n",
       "movie                    object\n",
       "actor                    object\n",
       "director                 object\n",
       "composer                 object\n",
       "writer                   object\n",
       "cinematographer          object\n",
       "film_location            object\n",
       "shooting_location        object\n",
       "bond_car                 object\n",
       "bond_girl_nat            object\n",
       "us_gross_adj_2020       float64\n",
       "world_gross_adj_2020    float64\n",
       "budget_adj_2020         float64\n",
       "film_length               int64\n",
       "avg_imdb_rating         float64\n",
       "avg_rtn_tom_rating      float64\n",
       "conquest                  int64\n",
       "martinis                  int64\n",
       "bjb                       int64\n",
       "kills_bond                int64\n",
       "kills_others              int64\n",
       "top_100_soundtrack        int64\n",
       "video_game                int64\n",
       "actor id                  int64\n",
       "dtype: object"
      ]
     },
     "execution_count": 11,
     "metadata": {},
     "output_type": "execute_result"
    }
   ],
   "source": [
    "bond_data.dtypes"
   ]
  },
  {
   "cell_type": "markdown",
   "metadata": {},
   "source": [
    "**Machine Learning**\n",
    "<br>Use multiple linear regression model from SKlearn to determine the revenue for the latest Bond Movie"
   ]
  },
  {
   "cell_type": "code",
   "execution_count": 12,
   "metadata": {},
   "outputs": [
    {
     "data": {
      "text/html": [
       "<div>\n",
       "<style scoped>\n",
       "    .dataframe tbody tr th:only-of-type {\n",
       "        vertical-align: middle;\n",
       "    }\n",
       "\n",
       "    .dataframe tbody tr th {\n",
       "        vertical-align: top;\n",
       "    }\n",
       "\n",
       "    .dataframe thead th {\n",
       "        text-align: right;\n",
       "    }\n",
       "</style>\n",
       "<table border=\"1\" class=\"dataframe\">\n",
       "  <thead>\n",
       "    <tr style=\"text-align: right;\">\n",
       "      <th></th>\n",
       "      <th>year</th>\n",
       "      <th>movie</th>\n",
       "      <th>actor</th>\n",
       "      <th>director</th>\n",
       "      <th>composer</th>\n",
       "      <th>writer</th>\n",
       "      <th>cinematographer</th>\n",
       "      <th>film_location</th>\n",
       "      <th>shooting_location</th>\n",
       "      <th>bond_car</th>\n",
       "      <th>...</th>\n",
       "      <th>avg_imdb_rating</th>\n",
       "      <th>avg_rtn_tom_rating</th>\n",
       "      <th>conquest</th>\n",
       "      <th>martinis</th>\n",
       "      <th>bjb</th>\n",
       "      <th>kills_bond</th>\n",
       "      <th>kills_others</th>\n",
       "      <th>top_100_soundtrack</th>\n",
       "      <th>video_game</th>\n",
       "      <th>actor id</th>\n",
       "    </tr>\n",
       "  </thead>\n",
       "  <tbody>\n",
       "    <tr>\n",
       "      <th>20</th>\n",
       "      <td>2006</td>\n",
       "      <td>Casino Royale</td>\n",
       "      <td>Daniel Craig</td>\n",
       "      <td>Martin Campbell</td>\n",
       "      <td>David Arnold</td>\n",
       "      <td>Neal Purvis, Robert Wade &amp; Paul Haggis</td>\n",
       "      <td>Phil Méheux</td>\n",
       "      <td>Czech Republic, Pakistan, Uganda, Madagascar, ...</td>\n",
       "      <td>England, Italy, Czech republic, Bahamas, Unite...</td>\n",
       "      <td>Aston Martin</td>\n",
       "      <td>...</td>\n",
       "      <td>7.9</td>\n",
       "      <td>7.8</td>\n",
       "      <td>2</td>\n",
       "      <td>3</td>\n",
       "      <td>1</td>\n",
       "      <td>11</td>\n",
       "      <td>11</td>\n",
       "      <td>1</td>\n",
       "      <td>0</td>\n",
       "      <td>5</td>\n",
       "    </tr>\n",
       "    <tr>\n",
       "      <th>21</th>\n",
       "      <td>2008</td>\n",
       "      <td>Quantum of Solace</td>\n",
       "      <td>Daniel Craig</td>\n",
       "      <td>Marc Forster</td>\n",
       "      <td>David Arnold</td>\n",
       "      <td>Paul Haggis and Neal Purvis and Robert Wade</td>\n",
       "      <td>Roberto Schaefer</td>\n",
       "      <td>Italy, England, Haiti, Austria, Bolivia, Russia</td>\n",
       "      <td>England, Italy, Spain, Panama, Mexico, Chile, ...</td>\n",
       "      <td>Aston Martin</td>\n",
       "      <td>...</td>\n",
       "      <td>6.7</td>\n",
       "      <td>6.1</td>\n",
       "      <td>1</td>\n",
       "      <td>6</td>\n",
       "      <td>0</td>\n",
       "      <td>16</td>\n",
       "      <td>15</td>\n",
       "      <td>1</td>\n",
       "      <td>1</td>\n",
       "      <td>5</td>\n",
       "    </tr>\n",
       "    <tr>\n",
       "      <th>22</th>\n",
       "      <td>2012</td>\n",
       "      <td>Skyfall</td>\n",
       "      <td>Daniel Craig</td>\n",
       "      <td>Sam Mendes</td>\n",
       "      <td>Thomas Newman</td>\n",
       "      <td>Neal Purvis, Robert Wade &amp; John Logan</td>\n",
       "      <td>Roger Deakins</td>\n",
       "      <td>Turkey, England, China, Macau, Japan, Scotland</td>\n",
       "      <td>England, Scotland, Turkey, China</td>\n",
       "      <td>Aston Martin</td>\n",
       "      <td>...</td>\n",
       "      <td>7.8</td>\n",
       "      <td>8.2</td>\n",
       "      <td>3</td>\n",
       "      <td>1</td>\n",
       "      <td>1</td>\n",
       "      <td>26</td>\n",
       "      <td>26</td>\n",
       "      <td>1</td>\n",
       "      <td>0</td>\n",
       "      <td>5</td>\n",
       "    </tr>\n",
       "    <tr>\n",
       "      <th>23</th>\n",
       "      <td>2015</td>\n",
       "      <td>Spectre</td>\n",
       "      <td>Daniel Craig</td>\n",
       "      <td>Sam Mendes</td>\n",
       "      <td>Thomas Newman</td>\n",
       "      <td>John Logan &amp; Neal Purvis, Robert Wade &amp; Jez Bu...</td>\n",
       "      <td>Hoyte van Hoytema</td>\n",
       "      <td>Mexico, England, Italy, Austria, Morocco, Vati...</td>\n",
       "      <td>England, Austria, Italy, Vatican City, Mexico,...</td>\n",
       "      <td>Aston Martin</td>\n",
       "      <td>...</td>\n",
       "      <td>6.8</td>\n",
       "      <td>6.4</td>\n",
       "      <td>3</td>\n",
       "      <td>1</td>\n",
       "      <td>1</td>\n",
       "      <td>30</td>\n",
       "      <td>205</td>\n",
       "      <td>1</td>\n",
       "      <td>0</td>\n",
       "      <td>5</td>\n",
       "    </tr>\n",
       "  </tbody>\n",
       "</table>\n",
       "<p>4 rows × 25 columns</p>\n",
       "</div>"
      ],
      "text/plain": [
       "    year              movie         actor         director       composer  \\\n",
       "20  2006      Casino Royale  Daniel Craig  Martin Campbell   David Arnold   \n",
       "21  2008  Quantum of Solace  Daniel Craig     Marc Forster   David Arnold   \n",
       "22  2012            Skyfall  Daniel Craig       Sam Mendes  Thomas Newman   \n",
       "23  2015            Spectre  Daniel Craig       Sam Mendes  Thomas Newman   \n",
       "\n",
       "                                               writer    cinematographer  \\\n",
       "20             Neal Purvis, Robert Wade & Paul Haggis        Phil Méheux   \n",
       "21        Paul Haggis and Neal Purvis and Robert Wade   Roberto Schaefer   \n",
       "22              Neal Purvis, Robert Wade & John Logan      Roger Deakins   \n",
       "23  John Logan & Neal Purvis, Robert Wade & Jez Bu...  Hoyte van Hoytema   \n",
       "\n",
       "                                        film_location  \\\n",
       "20  Czech Republic, Pakistan, Uganda, Madagascar, ...   \n",
       "21    Italy, England, Haiti, Austria, Bolivia, Russia   \n",
       "22     Turkey, England, China, Macau, Japan, Scotland   \n",
       "23  Mexico, England, Italy, Austria, Morocco, Vati...   \n",
       "\n",
       "                                    shooting_location      bond_car  ...  \\\n",
       "20  England, Italy, Czech republic, Bahamas, Unite...  Aston Martin  ...   \n",
       "21  England, Italy, Spain, Panama, Mexico, Chile, ...  Aston Martin  ...   \n",
       "22                   England, Scotland, Turkey, China  Aston Martin  ...   \n",
       "23  England, Austria, Italy, Vatican City, Mexico,...  Aston Martin  ...   \n",
       "\n",
       "   avg_imdb_rating  avg_rtn_tom_rating  conquest  martinis  bjb  kills_bond  \\\n",
       "20             7.9                 7.8         2         3    1          11   \n",
       "21             6.7                 6.1         1         6    0          16   \n",
       "22             7.8                 8.2         3         1    1          26   \n",
       "23             6.8                 6.4         3         1    1          30   \n",
       "\n",
       "    kills_others  top_100_soundtrack  video_game  actor id  \n",
       "20            11                   1           0         5  \n",
       "21            15                   1           1         5  \n",
       "22            26                   1           0         5  \n",
       "23           205                   1           0         5  \n",
       "\n",
       "[4 rows x 25 columns]"
      ]
     },
     "execution_count": 12,
     "metadata": {},
     "output_type": "execute_result"
    }
   ],
   "source": [
    "#Delete the latest Bond film from the database\n",
    "training_data=bond_data[:24]\n",
    "training_data[20:]"
   ]
  },
  {
   "cell_type": "code",
   "execution_count": 13,
   "metadata": {},
   "outputs": [
    {
     "name": "stdout",
     "output_type": "stream",
     "text": [
      "(24, 7) (24, 1)\n"
     ]
    }
   ],
   "source": [
    "# determine columns for X variable (i.e budget, film length, user rating, etc) and y variable (expected worldwide revenue)\n",
    "X=training_data[['year','budget_adj_2020','film_length', 'avg_imdb_rating','avg_rtn_tom_rating', 'kills_bond','actor id']]\n",
    "y=training_data['world_gross_adj_2020'].values.reshape(-1,1)\n",
    "print(X.shape, y.shape)"
   ]
  },
  {
   "cell_type": "code",
   "execution_count": 14,
   "metadata": {},
   "outputs": [],
   "source": [
    "# create train and test data from the population\n",
    "from sklearn.model_selection import train_test_split\n",
    "\n",
    "X_train, X_test, y_train, y_test = train_test_split(X, y, random_state=1)"
   ]
  },
  {
   "cell_type": "code",
   "execution_count": 15,
   "metadata": {},
   "outputs": [
    {
     "name": "stderr",
     "output_type": "stream",
     "text": [
      "C:\\Users\\Kevin\\anaconda3\\lib\\site-packages\\sklearn\\utils\\validation.py:1675: FutureWarning: Feature names only support names that are all strings. Got feature names with dtypes: ['quoted_name', 'str']. An error will be raised in 1.2.\n",
      "  warnings.warn(\n"
     ]
    }
   ],
   "source": [
    "# apply a standard scaler on the data\n",
    "from sklearn.preprocessing import StandardScaler\n",
    "X_scaler = StandardScaler().fit(X_train)\n",
    "y_scaler = StandardScaler().fit(y_train)"
   ]
  },
  {
   "cell_type": "code",
   "execution_count": 16,
   "metadata": {},
   "outputs": [
    {
     "name": "stderr",
     "output_type": "stream",
     "text": [
      "C:\\Users\\Kevin\\anaconda3\\lib\\site-packages\\sklearn\\utils\\validation.py:1675: FutureWarning: Feature names only support names that are all strings. Got feature names with dtypes: ['quoted_name', 'str']. An error will be raised in 1.2.\n",
      "  warnings.warn(\n",
      "C:\\Users\\Kevin\\anaconda3\\lib\\site-packages\\sklearn\\utils\\validation.py:1675: FutureWarning: Feature names only support names that are all strings. Got feature names with dtypes: ['quoted_name', 'str']. An error will be raised in 1.2.\n",
      "  warnings.warn(\n"
     ]
    }
   ],
   "source": [
    "X_train_scaled = X_scaler.transform(X_train)\n",
    "X_test_scaled = X_scaler.transform(X_test)\n",
    "y_train_scaled = y_scaler.transform(y_train)\n",
    "y_test_scaled = y_scaler.transform(y_test)\n",
    "# X_scaled=X_scaler.transform(X)\n",
    "# y_scaled=y_scaler.transform(y)"
   ]
  },
  {
   "cell_type": "code",
   "execution_count": 17,
   "metadata": {},
   "outputs": [
    {
     "name": "stdout",
     "output_type": "stream",
     "text": [
      "Training Score: 1.0\n",
      "Testing Score: -0.23708838689892353\n"
     ]
    }
   ],
   "source": [
    "# Fit the model into the data\n",
    "from sklearn import tree\n",
    "model = tree.DecisionTreeRegressor()\n",
    "model.fit(X_train_scaled, y_train_scaled)\n",
    "training_score = model.score(X_train_scaled, y_train_scaled)\n",
    "testing_score = model.score(X_test_scaled, y_test_scaled)\n",
    "\n",
    "\n",
    "print(f\"Training Score: {training_score}\")\n",
    "print(f\"Testing Score: {testing_score}\")"
   ]
  },
  {
   "cell_type": "code",
   "execution_count": 18,
   "metadata": {},
   "outputs": [
    {
     "data": {
      "text/html": [
       "<div>\n",
       "<style scoped>\n",
       "    .dataframe tbody tr th:only-of-type {\n",
       "        vertical-align: middle;\n",
       "    }\n",
       "\n",
       "    .dataframe tbody tr th {\n",
       "        vertical-align: top;\n",
       "    }\n",
       "\n",
       "    .dataframe thead th {\n",
       "        text-align: right;\n",
       "    }\n",
       "</style>\n",
       "<table border=\"1\" class=\"dataframe\">\n",
       "  <thead>\n",
       "    <tr style=\"text-align: right;\">\n",
       "      <th></th>\n",
       "      <th>year</th>\n",
       "      <th>movie</th>\n",
       "      <th>actor</th>\n",
       "      <th>director</th>\n",
       "      <th>composer</th>\n",
       "      <th>writer</th>\n",
       "      <th>cinematographer</th>\n",
       "      <th>film_location</th>\n",
       "      <th>shooting_location</th>\n",
       "      <th>bond_car</th>\n",
       "      <th>...</th>\n",
       "      <th>avg_imdb_rating</th>\n",
       "      <th>avg_rtn_tom_rating</th>\n",
       "      <th>conquest</th>\n",
       "      <th>martinis</th>\n",
       "      <th>bjb</th>\n",
       "      <th>kills_bond</th>\n",
       "      <th>kills_others</th>\n",
       "      <th>top_100_soundtrack</th>\n",
       "      <th>video_game</th>\n",
       "      <th>actor id</th>\n",
       "    </tr>\n",
       "  </thead>\n",
       "  <tbody>\n",
       "    <tr>\n",
       "      <th>23</th>\n",
       "      <td>2015</td>\n",
       "      <td>Spectre</td>\n",
       "      <td>Daniel Craig</td>\n",
       "      <td>Sam Mendes</td>\n",
       "      <td>Thomas Newman</td>\n",
       "      <td>John Logan &amp; Neal Purvis, Robert Wade &amp; Jez Bu...</td>\n",
       "      <td>Hoyte van Hoytema</td>\n",
       "      <td>Mexico, England, Italy, Austria, Morocco, Vati...</td>\n",
       "      <td>England, Austria, Italy, Vatican City, Mexico,...</td>\n",
       "      <td>Aston Martin</td>\n",
       "      <td>...</td>\n",
       "      <td>6.8</td>\n",
       "      <td>6.4</td>\n",
       "      <td>3</td>\n",
       "      <td>1</td>\n",
       "      <td>1</td>\n",
       "      <td>30</td>\n",
       "      <td>205</td>\n",
       "      <td>1</td>\n",
       "      <td>0</td>\n",
       "      <td>5</td>\n",
       "    </tr>\n",
       "  </tbody>\n",
       "</table>\n",
       "<p>1 rows × 25 columns</p>\n",
       "</div>"
      ],
      "text/plain": [
       "    year    movie         actor    director       composer  \\\n",
       "23  2015  Spectre  Daniel Craig  Sam Mendes  Thomas Newman   \n",
       "\n",
       "                                               writer    cinematographer  \\\n",
       "23  John Logan & Neal Purvis, Robert Wade & Jez Bu...  Hoyte van Hoytema   \n",
       "\n",
       "                                        film_location  \\\n",
       "23  Mexico, England, Italy, Austria, Morocco, Vati...   \n",
       "\n",
       "                                    shooting_location      bond_car  ...  \\\n",
       "23  England, Austria, Italy, Vatican City, Mexico,...  Aston Martin  ...   \n",
       "\n",
       "   avg_imdb_rating  avg_rtn_tom_rating  conquest  martinis  bjb  kills_bond  \\\n",
       "23             6.8                 6.4         3         1    1          30   \n",
       "\n",
       "    kills_others  top_100_soundtrack  video_game  actor id  \n",
       "23           205                   1           0         5  \n",
       "\n",
       "[1 rows x 25 columns]"
      ]
     },
     "execution_count": 18,
     "metadata": {},
     "output_type": "execute_result"
    }
   ],
   "source": [
    "bond_data[23:24]"
   ]
  },
  {
   "cell_type": "code",
   "execution_count": 41,
   "metadata": {},
   "outputs": [
    {
     "name": "stderr",
     "output_type": "stream",
     "text": [
      "C:\\Users\\Kevin\\anaconda3\\lib\\site-packages\\sklearn\\utils\\validation.py:1675: FutureWarning: Feature names only support names that are all strings. Got feature names with dtypes: ['quoted_name', 'str']. An error will be raised in 1.2.\n",
      "  warnings.warn(\n"
     ]
    }
   ],
   "source": [
    "# extract the relevant parameter of the newest Bond movie (No Time to Die) which will be used to predict the worldwide revenue\n",
    "new_movie=bond_data[0:1]\n",
    "X_predict=new_movie[['year','budget_adj_2020','film_length', 'avg_imdb_rating','avg_rtn_tom_rating','kills_bond','actor id']]\n",
    "X_predict_scaled=X_scaler.transform(X_predict)"
   ]
  },
  {
   "cell_type": "code",
   "execution_count": 43,
   "metadata": {},
   "outputs": [
    {
     "data": {
      "text/plain": [
       "525785.2449"
      ]
     },
     "execution_count": 43,
     "metadata": {},
     "output_type": "execute_result"
    }
   ],
   "source": [
    "expected_revenue=y_scaler.inverse_transform(model.predict(X_predict_scaled).reshape(-1,1))[0][0]\n",
    "expected_revenue"
   ]
  },
  {
   "cell_type": "markdown",
   "metadata": {},
   "source": [
    "Create a new dataframe containing revenue pred to be uploaded into AWS"
   ]
  },
  {
   "cell_type": "code",
   "execution_count": 47,
   "metadata": {},
   "outputs": [],
   "source": [
    "# Create blank movie list and blank predicted revenue list\n",
    "movie_list=[]\n",
    "predicted_revenue=[]\n",
    "variables=['year','budget_adj_2020','film_length', 'avg_imdb_rating','avg_rtn_tom_rating','kills_bond','actor id']\n",
    "\n",
    "for index, row in bond_data.iterrows():\n",
    "    # iterate through the movie names in bond_data df\n",
    "    movie_list.append(row['movie'])\n",
    "\n",
    "    # iterate through bond_data df based on the relevant colums required for the machine learning model to be ran\n",
    "    X_predict_scaled=X_scaler.transform(row[['year','budget_adj_2020','film_length', 'avg_imdb_rating','avg_rtn_tom_rating','kills_bond','actor id']].values.reshape(-1,7))\n",
    "    expected_revenue=y_scaler.inverse_transform(model.predict(X_predict_scaled).reshape(-1,1))[0][0]\n",
    "    predicted_revenue.append(expected_revenue)"
   ]
  },
  {
   "cell_type": "code",
   "execution_count": 48,
   "metadata": {},
   "outputs": [
    {
     "data": {
      "text/html": [
       "<div>\n",
       "<style scoped>\n",
       "    .dataframe tbody tr th:only-of-type {\n",
       "        vertical-align: middle;\n",
       "    }\n",
       "\n",
       "    .dataframe tbody tr th {\n",
       "        vertical-align: top;\n",
       "    }\n",
       "\n",
       "    .dataframe thead th {\n",
       "        text-align: right;\n",
       "    }\n",
       "</style>\n",
       "<table border=\"1\" class=\"dataframe\">\n",
       "  <thead>\n",
       "    <tr style=\"text-align: right;\">\n",
       "      <th></th>\n",
       "      <th>movie</th>\n",
       "      <th>predicted_revenue</th>\n",
       "    </tr>\n",
       "  </thead>\n",
       "  <tbody>\n",
       "    <tr>\n",
       "      <th>0</th>\n",
       "      <td>Dr. No</td>\n",
       "      <td>5.257852e+05</td>\n",
       "    </tr>\n",
       "    <tr>\n",
       "      <th>1</th>\n",
       "      <td>From Russia with Love</td>\n",
       "      <td>6.873300e+05</td>\n",
       "    </tr>\n",
       "    <tr>\n",
       "      <th>2</th>\n",
       "      <td>Goldfinger</td>\n",
       "      <td>1.074015e+06</td>\n",
       "    </tr>\n",
       "    <tr>\n",
       "      <th>3</th>\n",
       "      <td>Thunderball</td>\n",
       "      <td>5.727276e+05</td>\n",
       "    </tr>\n",
       "    <tr>\n",
       "      <th>4</th>\n",
       "      <td>You Only Live Twice</td>\n",
       "      <td>8.906916e+05</td>\n",
       "    </tr>\n",
       "    <tr>\n",
       "      <th>5</th>\n",
       "      <td>On Her Majesty's Secret Service</td>\n",
       "      <td>5.956040e+05</td>\n",
       "    </tr>\n",
       "    <tr>\n",
       "      <th>6</th>\n",
       "      <td>Diamonds Are Forever</td>\n",
       "      <td>7.635062e+05</td>\n",
       "    </tr>\n",
       "    <tr>\n",
       "      <th>7</th>\n",
       "      <td>Live and Let Die</td>\n",
       "      <td>9.714158e+05</td>\n",
       "    </tr>\n",
       "    <tr>\n",
       "      <th>8</th>\n",
       "      <td>The Man with the Golden Gun</td>\n",
       "      <td>5.277314e+05</td>\n",
       "    </tr>\n",
       "    <tr>\n",
       "      <th>9</th>\n",
       "      <td>The Spy Who Loved Me</td>\n",
       "      <td>8.155431e+05</td>\n",
       "    </tr>\n",
       "    <tr>\n",
       "      <th>10</th>\n",
       "      <td>Moonraker</td>\n",
       "      <td>7.721693e+05</td>\n",
       "    </tr>\n",
       "    <tr>\n",
       "      <th>11</th>\n",
       "      <td>For Your Eyes Only</td>\n",
       "      <td>5.727276e+05</td>\n",
       "    </tr>\n",
       "    <tr>\n",
       "      <th>12</th>\n",
       "      <td>Octopussy</td>\n",
       "      <td>5.018238e+05</td>\n",
       "    </tr>\n",
       "    <tr>\n",
       "      <th>13</th>\n",
       "      <td>A View to a Kill</td>\n",
       "      <td>5.018238e+05</td>\n",
       "    </tr>\n",
       "    <tr>\n",
       "      <th>14</th>\n",
       "      <td>The Living Daylights</td>\n",
       "      <td>5.727276e+05</td>\n",
       "    </tr>\n",
       "    <tr>\n",
       "      <th>15</th>\n",
       "      <td>License to Kill</td>\n",
       "      <td>3.357196e+05</td>\n",
       "    </tr>\n",
       "    <tr>\n",
       "      <th>16</th>\n",
       "      <td>GoldenEye</td>\n",
       "      <td>6.234463e+05</td>\n",
       "    </tr>\n",
       "    <tr>\n",
       "      <th>17</th>\n",
       "      <td>Tomorrow Never Dies</td>\n",
       "      <td>7.721693e+05</td>\n",
       "    </tr>\n",
       "    <tr>\n",
       "      <th>18</th>\n",
       "      <td>The World Is Not Enough</td>\n",
       "      <td>3.357196e+05</td>\n",
       "    </tr>\n",
       "    <tr>\n",
       "      <th>19</th>\n",
       "      <td>Die Another Day</td>\n",
       "      <td>6.400352e+05</td>\n",
       "    </tr>\n",
       "    <tr>\n",
       "      <th>20</th>\n",
       "      <td>Casino Royale</td>\n",
       "      <td>6.234463e+05</td>\n",
       "    </tr>\n",
       "    <tr>\n",
       "      <th>21</th>\n",
       "      <td>Quantum of Solace</td>\n",
       "      <td>7.325811e+05</td>\n",
       "    </tr>\n",
       "    <tr>\n",
       "      <th>22</th>\n",
       "      <td>Skyfall</td>\n",
       "      <td>1.287090e+06</td>\n",
       "    </tr>\n",
       "    <tr>\n",
       "      <th>23</th>\n",
       "      <td>Spectre</td>\n",
       "      <td>9.926652e+05</td>\n",
       "    </tr>\n",
       "    <tr>\n",
       "      <th>24</th>\n",
       "      <td>No Time to Die</td>\n",
       "      <td>1.287090e+06</td>\n",
       "    </tr>\n",
       "  </tbody>\n",
       "</table>\n",
       "</div>"
      ],
      "text/plain": [
       "                              movie  predicted_revenue\n",
       "0                            Dr. No       5.257852e+05\n",
       "1             From Russia with Love       6.873300e+05\n",
       "2                        Goldfinger       1.074015e+06\n",
       "3                       Thunderball       5.727276e+05\n",
       "4               You Only Live Twice       8.906916e+05\n",
       "5   On Her Majesty's Secret Service       5.956040e+05\n",
       "6              Diamonds Are Forever       7.635062e+05\n",
       "7                  Live and Let Die       9.714158e+05\n",
       "8       The Man with the Golden Gun       5.277314e+05\n",
       "9              The Spy Who Loved Me       8.155431e+05\n",
       "10                        Moonraker       7.721693e+05\n",
       "11               For Your Eyes Only       5.727276e+05\n",
       "12                        Octopussy       5.018238e+05\n",
       "13                 A View to a Kill       5.018238e+05\n",
       "14             The Living Daylights       5.727276e+05\n",
       "15                  License to Kill       3.357196e+05\n",
       "16                        GoldenEye       6.234463e+05\n",
       "17              Tomorrow Never Dies       7.721693e+05\n",
       "18          The World Is Not Enough       3.357196e+05\n",
       "19                  Die Another Day       6.400352e+05\n",
       "20                    Casino Royale       6.234463e+05\n",
       "21                Quantum of Solace       7.325811e+05\n",
       "22                          Skyfall       1.287090e+06\n",
       "23                          Spectre       9.926652e+05\n",
       "24                   No Time to Die       1.287090e+06"
      ]
     },
     "execution_count": 48,
     "metadata": {},
     "output_type": "execute_result"
    }
   ],
   "source": [
    "df_prediction_tree_reg=pd.DataFrame(\n",
    "    {\"movie\":movie_list,\n",
    "    \"predicted_revenue\":predicted_revenue}\n",
    "    )\n",
    "\n",
    "df_prediction_tree_reg"
   ]
  },
  {
   "cell_type": "code",
   "execution_count": 50,
   "metadata": {},
   "outputs": [
    {
     "data": {
      "text/plain": [
       "0      525785.0\n",
       "1      687330.0\n",
       "2     1074015.0\n",
       "3      572728.0\n",
       "4      890692.0\n",
       "5      595604.0\n",
       "6      763506.0\n",
       "7      971416.0\n",
       "8      527731.0\n",
       "9      815543.0\n",
       "10     772169.0\n",
       "11     572728.0\n",
       "12     501824.0\n",
       "13     501824.0\n",
       "14     572728.0\n",
       "15     335720.0\n",
       "16     623446.0\n",
       "17     772169.0\n",
       "18     335720.0\n",
       "19     640035.0\n",
       "20     623446.0\n",
       "21     732581.0\n",
       "22    1287090.0\n",
       "23     992665.0\n",
       "24    1287090.0\n",
       "Name: predicted_revenue, dtype: float64"
      ]
     },
     "execution_count": 50,
     "metadata": {},
     "output_type": "execute_result"
    }
   ],
   "source": [
    "df_prediction_tree_reg['predicted_revenue'].round()"
   ]
  },
  {
   "cell_type": "code",
   "execution_count": 51,
   "metadata": {},
   "outputs": [],
   "source": [
    "# create classes\n",
    "Base = declarative_base()\n",
    "\n",
    "class predicted_revenue(Base):\n",
    "    __tablename__ = 'bond_predicted_revenue_tree_reg'\n",
    "    id = Column(Integer, primary_key=True)\n",
    "    movie = Column(String(255))\n",
    "    predicted_revenue = Column(Float)"
   ]
  },
  {
   "cell_type": "code",
   "execution_count": 52,
   "metadata": {},
   "outputs": [],
   "source": [
    "# Create a \"Metadata\" Layer That Abstracts our SQL Database\n",
    "# ----------------------------------\n",
    "# Create (if not already in existence) the tables associated with our classes.\n",
    "Base.metadata.create_all(engine)"
   ]
  },
  {
   "cell_type": "code",
   "execution_count": 53,
   "metadata": {},
   "outputs": [],
   "source": [
    "df_prediction_tree_reg.to_sql(name=\"bond_predicted_revenue_tree_reg\", con=engine, if_exists='append', index=False)"
   ]
  },
  {
   "cell_type": "code",
   "execution_count": 59,
   "metadata": {},
   "outputs": [
    {
     "data": {
      "text/plain": [
       "[(0.5139985602799773, 'avg_rtn_tom_rating'),\n",
       " (0.2835408398753189, 'film_length'),\n",
       " (0.12834257073302155, 'kills_bond'),\n",
       " (0.04624423087101267, 'budget_adj_2020'),\n",
       " (0.014604124058148602, 'actor id'),\n",
       " (0.011478136444080649, 'year'),\n",
       " (0.00179153773844043, 'avg_imdb_rating')]"
      ]
     },
     "execution_count": 59,
     "metadata": {},
     "output_type": "execute_result"
    }
   ],
   "source": [
    "feature_names = ['year','budget_adj_2020','film_length', 'avg_imdb_rating','avg_rtn_tom_rating', 'kills_bond','actor id']\n",
    "sorted(zip(model.feature_importances_, feature_names), reverse=True)"
   ]
  }
 ],
 "metadata": {
  "anaconda-cloud": {},
  "celltoolbar": "Slideshow",
  "interpreter": {
   "hash": "2e866f0e2aa140c3884bc029dbe31d56837afa270cbfff6f5c57dbc7b48b8e98"
  },
  "kernelspec": {
   "display_name": "Python 3.8.11 64-bit ('base': conda)",
   "name": "python3"
  },
  "language_info": {
   "codemirror_mode": {
    "name": "ipython",
    "version": 3
   },
   "file_extension": ".py",
   "mimetype": "text/x-python",
   "name": "python",
   "nbconvert_exporter": "python",
   "pygments_lexer": "ipython3",
   "version": "3.8.11"
  },
  "varInspector": {
   "cols": {
    "lenName": 16,
    "lenType": 16,
    "lenVar": 40
   },
   "kernels_config": {
    "python": {
     "delete_cmd_postfix": "",
     "delete_cmd_prefix": "del ",
     "library": "var_list.py",
     "varRefreshCmd": "print(var_dic_list())"
    },
    "r": {
     "delete_cmd_postfix": ") ",
     "delete_cmd_prefix": "rm(",
     "library": "var_list.r",
     "varRefreshCmd": "cat(var_dic_list()) "
    }
   },
   "types_to_exclude": [
    "module",
    "function",
    "builtin_function_or_method",
    "instance",
    "_Feature"
   ],
   "window_display": false
  }
 },
 "nbformat": 4,
 "nbformat_minor": 2
}
