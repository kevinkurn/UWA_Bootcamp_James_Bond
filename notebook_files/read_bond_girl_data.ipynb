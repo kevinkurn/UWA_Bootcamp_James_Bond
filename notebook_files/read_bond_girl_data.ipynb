{
 "cells": [
  {
   "cell_type": "code",
   "execution_count": 308,
   "metadata": {},
   "outputs": [],
   "source": [
    "import pandas as pd"
   ]
  },
  {
   "cell_type": "code",
   "execution_count": 309,
   "metadata": {},
   "outputs": [],
   "source": [
    "df=pd.read_csv(\"static/data/bond_girls_data.csv\")"
   ]
  },
  {
   "cell_type": "code",
   "execution_count": 310,
   "metadata": {},
   "outputs": [
    {
     "data": {
      "text/plain": [
       "Index(['bond_girl_name', 'actress_age', 'film_title', 'film_release_year',\n",
       "       'bond_actor', 'bond_actor_age', 'director_name', 'box_office_actual_$',\n",
       "       'box_office_adjusted_2005_$', 'budget_actual_$',\n",
       "       'budget_adjusted_2005_$'],\n",
       "      dtype='object')"
      ]
     },
     "execution_count": 310,
     "metadata": {},
     "output_type": "execute_result"
    }
   ],
   "source": [
    "df.columns"
   ]
  },
  {
   "cell_type": "code",
   "execution_count": 311,
   "metadata": {},
   "outputs": [],
   "source": [
    "df = df.drop(['director_name', 'box_office_actual_$',\n",
    "       'box_office_adjusted_2005_$', 'budget_actual_$',\n",
    "       'budget_adjusted_2005_$'], axis = 1)\n"
   ]
  },
  {
   "cell_type": "code",
   "execution_count": 312,
   "metadata": {},
   "outputs": [],
   "source": [
    "# calculate average age\n",
    "average = df.groupby(['film_release_year','bond_actor','bond_actor_age'])['actress_age'].mean()"
   ]
  },
  {
   "cell_type": "code",
   "execution_count": 313,
   "metadata": {},
   "outputs": [],
   "source": [
    "bond_girls = pd.merge(df, average, how=\"outer\", on = \"film_release_year\")"
   ]
  },
  {
   "cell_type": "code",
   "execution_count": 314,
   "metadata": {},
   "outputs": [
    {
     "data": {
      "text/plain": [
       "Index(['bond_girl_name', 'actress_age_x', 'film_title', 'film_release_year',\n",
       "       'bond_actor', 'bond_actor_age', 'actress_age_y'],\n",
       "      dtype='object')"
      ]
     },
     "execution_count": 314,
     "metadata": {},
     "output_type": "execute_result"
    }
   ],
   "source": [
    "bond_girls.columns"
   ]
  },
  {
   "cell_type": "code",
   "execution_count": 315,
   "metadata": {},
   "outputs": [],
   "source": [
    "bond_girls.rename(columns = {'actress_age_x': 'actress_age', 'actress_age_y':'average_girl_age'}, inplace=True)"
   ]
  },
  {
   "cell_type": "code",
   "execution_count": 316,
   "metadata": {},
   "outputs": [],
   "source": [
    "bond_girls['bond_actor'] = bond_girls['bond_actor'].str.strip()"
   ]
  },
  {
   "cell_type": "code",
   "execution_count": 317,
   "metadata": {},
   "outputs": [
    {
     "data": {
      "text/plain": [
       "Index(['bond_girl_name', 'actress_age', 'film_title', 'film_release_year',\n",
       "       'bond_actor', 'bond_actor_age', 'average_girl_age'],\n",
       "      dtype='object')"
      ]
     },
     "execution_count": 317,
     "metadata": {},
     "output_type": "execute_result"
    }
   ],
   "source": [
    "bond_girls.columns"
   ]
  },
  {
   "cell_type": "code",
   "execution_count": 318,
   "metadata": {},
   "outputs": [],
   "source": [
    "bond_girls['bond_actor_age'] = bond_girls.bond_actor_age + 1 -1"
   ]
  },
  {
   "cell_type": "code",
   "execution_count": 319,
   "metadata": {},
   "outputs": [],
   "source": [
    "bond_girls['actress_age'] = bond_girls.actress_age + 1 -1"
   ]
  },
  {
   "cell_type": "code",
   "execution_count": 320,
   "metadata": {},
   "outputs": [],
   "source": [
    "bond_girls['year']=bond_girls['film_release_year']"
   ]
  },
  {
   "cell_type": "code",
   "execution_count": 321,
   "metadata": {},
   "outputs": [],
   "source": [
    "bond_girls['actor'] = bond_girls['bond_actor'].str.strip()"
   ]
  },
  {
   "cell_type": "code",
   "execution_count": 322,
   "metadata": {},
   "outputs": [],
   "source": [
    "bond_girls['actress'] = bond_girls['bond_girl_name'].str.strip()"
   ]
  },
  {
   "cell_type": "code",
   "execution_count": 323,
   "metadata": {},
   "outputs": [],
   "source": [
    "bond_girls = bond_girls.drop(columns=['bond_actor','bond_girl_name','film_release_year'])"
   ]
  },
  {
   "cell_type": "code",
   "execution_count": 339,
   "metadata": {},
   "outputs": [],
   "source": [
    "bond_girls['difference'] = (bond_girls.bond_actor_age - bond_girls.actress_age).astype(\"int\")\n",
    "bond_girls['diff_avg'] = (bond_girls.bond_actor_age - bond_girls.average_girl_age).astype(\"int\")"
   ]
  },
  {
   "cell_type": "code",
   "execution_count": 341,
   "metadata": {},
   "outputs": [],
   "source": [
    "bond_girls.to_csv(\"assets/data/bond_girls.csv\", index=False)"
   ]
  },
  {
   "cell_type": "code",
   "execution_count": 340,
   "metadata": {},
   "outputs": [
    {
     "data": {
      "text/html": [
       "<div>\n",
       "<style scoped>\n",
       "    .dataframe tbody tr th:only-of-type {\n",
       "        vertical-align: middle;\n",
       "    }\n",
       "\n",
       "    .dataframe tbody tr th {\n",
       "        vertical-align: top;\n",
       "    }\n",
       "\n",
       "    .dataframe thead th {\n",
       "        text-align: right;\n",
       "    }\n",
       "</style>\n",
       "<table border=\"1\" class=\"dataframe\">\n",
       "  <thead>\n",
       "    <tr style=\"text-align: right;\">\n",
       "      <th></th>\n",
       "      <th>actress_age</th>\n",
       "      <th>bond_actor_age</th>\n",
       "      <th>average_girl_age</th>\n",
       "      <th>year</th>\n",
       "      <th>difference</th>\n",
       "      <th>diff_avg</th>\n",
       "    </tr>\n",
       "  </thead>\n",
       "  <tbody>\n",
       "    <tr>\n",
       "      <th>count</th>\n",
       "      <td>71.000000</td>\n",
       "      <td>71.000000</td>\n",
       "      <td>71.000000</td>\n",
       "      <td>71.000000</td>\n",
       "      <td>71.000000</td>\n",
       "      <td>71.000000</td>\n",
       "    </tr>\n",
       "    <tr>\n",
       "      <th>mean</th>\n",
       "      <td>28.915493</td>\n",
       "      <td>43.140845</td>\n",
       "      <td>28.915493</td>\n",
       "      <td>1983.169014</td>\n",
       "      <td>14.225352</td>\n",
       "      <td>13.873239</td>\n",
       "    </tr>\n",
       "    <tr>\n",
       "      <th>std</th>\n",
       "      <td>5.546547</td>\n",
       "      <td>7.841822</td>\n",
       "      <td>3.524390</td>\n",
       "      <td>17.592195</td>\n",
       "      <td>8.176966</td>\n",
       "      <td>6.989645</td>\n",
       "    </tr>\n",
       "    <tr>\n",
       "      <th>min</th>\n",
       "      <td>21.000000</td>\n",
       "      <td>30.000000</td>\n",
       "      <td>23.333333</td>\n",
       "      <td>1962.000000</td>\n",
       "      <td>-5.000000</td>\n",
       "      <td>1.000000</td>\n",
       "    </tr>\n",
       "    <tr>\n",
       "      <th>25%</th>\n",
       "      <td>24.000000</td>\n",
       "      <td>36.000000</td>\n",
       "      <td>26.666667</td>\n",
       "      <td>1967.000000</td>\n",
       "      <td>9.500000</td>\n",
       "      <td>9.000000</td>\n",
       "    </tr>\n",
       "    <tr>\n",
       "      <th>50%</th>\n",
       "      <td>28.000000</td>\n",
       "      <td>43.000000</td>\n",
       "      <td>28.600000</td>\n",
       "      <td>1979.000000</td>\n",
       "      <td>13.000000</td>\n",
       "      <td>13.000000</td>\n",
       "    </tr>\n",
       "    <tr>\n",
       "      <th>75%</th>\n",
       "      <td>33.000000</td>\n",
       "      <td>49.000000</td>\n",
       "      <td>30.333333</td>\n",
       "      <td>1997.000000</td>\n",
       "      <td>20.500000</td>\n",
       "      <td>19.000000</td>\n",
       "    </tr>\n",
       "    <tr>\n",
       "      <th>max</th>\n",
       "      <td>51.000000</td>\n",
       "      <td>58.000000</td>\n",
       "      <td>40.500000</td>\n",
       "      <td>2021.000000</td>\n",
       "      <td>31.000000</td>\n",
       "      <td>27.000000</td>\n",
       "    </tr>\n",
       "  </tbody>\n",
       "</table>\n",
       "</div>"
      ],
      "text/plain": [
       "       actress_age  bond_actor_age  average_girl_age         year  difference  \\\n",
       "count    71.000000       71.000000         71.000000    71.000000   71.000000   \n",
       "mean     28.915493       43.140845         28.915493  1983.169014   14.225352   \n",
       "std       5.546547        7.841822          3.524390    17.592195    8.176966   \n",
       "min      21.000000       30.000000         23.333333  1962.000000   -5.000000   \n",
       "25%      24.000000       36.000000         26.666667  1967.000000    9.500000   \n",
       "50%      28.000000       43.000000         28.600000  1979.000000   13.000000   \n",
       "75%      33.000000       49.000000         30.333333  1997.000000   20.500000   \n",
       "max      51.000000       58.000000         40.500000  2021.000000   31.000000   \n",
       "\n",
       "        diff_avg  \n",
       "count  71.000000  \n",
       "mean   13.873239  \n",
       "std     6.989645  \n",
       "min     1.000000  \n",
       "25%     9.000000  \n",
       "50%    13.000000  \n",
       "75%    19.000000  \n",
       "max    27.000000  "
      ]
     },
     "execution_count": 340,
     "metadata": {},
     "output_type": "execute_result"
    }
   ],
   "source": [
    "bond_girls.describe()"
   ]
  },
  {
   "cell_type": "code",
   "execution_count": 327,
   "metadata": {},
   "outputs": [
    {
     "data": {
      "text/plain": [
       "<AxesSubplot:>"
      ]
     },
     "execution_count": 327,
     "metadata": {},
     "output_type": "execute_result"
    },
    {
     "data": {
      "image/png": "[encoded data removed]",
      "text/plain": [
       "<Figure size 432x288 with 1 Axes>"
      ]
     },
     "metadata": {
      "needs_background": "light"
     },
     "output_type": "display_data"
    }
   ],
   "source": [
    "import matplotlib.pyplot as plt\n",
    "bond_girls[\"actress_age\"].hist()\n"
   ]
  },
  {
   "cell_type": "code",
   "execution_count": 328,
   "metadata": {},
   "outputs": [
    {
     "data": {
      "text/html": [
       "<div>\n",
       "<style scoped>\n",
       "    .dataframe tbody tr th:only-of-type {\n",
       "        vertical-align: middle;\n",
       "    }\n",
       "\n",
       "    .dataframe tbody tr th {\n",
       "        vertical-align: top;\n",
       "    }\n",
       "\n",
       "    .dataframe thead th {\n",
       "        text-align: right;\n",
       "    }\n",
       "</style>\n",
       "<table border=\"1\" class=\"dataframe\">\n",
       "  <thead>\n",
       "    <tr style=\"text-align: right;\">\n",
       "      <th></th>\n",
       "      <th>actress_age</th>\n",
       "      <th>film_title</th>\n",
       "      <th>bond_actor_age</th>\n",
       "      <th>average_girl_age</th>\n",
       "      <th>year</th>\n",
       "      <th>actor</th>\n",
       "      <th>actress</th>\n",
       "      <th>difference</th>\n",
       "      <th>diff_avg</th>\n",
       "    </tr>\n",
       "  </thead>\n",
       "  <tbody>\n",
       "    <tr>\n",
       "      <th>1</th>\n",
       "      <td>36</td>\n",
       "      <td>Dr. No</td>\n",
       "      <td>32</td>\n",
       "      <td>31.000000</td>\n",
       "      <td>1962</td>\n",
       "      <td>Sean Connery</td>\n",
       "      <td>Zena Marshall</td>\n",
       "      <td>-4</td>\n",
       "      <td>1.000000</td>\n",
       "    </tr>\n",
       "    <tr>\n",
       "      <th>2</th>\n",
       "      <td>35</td>\n",
       "      <td>From Russia with Love</td>\n",
       "      <td>33</td>\n",
       "      <td>26.333333</td>\n",
       "      <td>1963</td>\n",
       "      <td>Sean Connery</td>\n",
       "      <td>Eunice Gayson</td>\n",
       "      <td>-2</td>\n",
       "      <td>6.666667</td>\n",
       "    </tr>\n",
       "    <tr>\n",
       "      <th>10</th>\n",
       "      <td>39</td>\n",
       "      <td>Goldfinger</td>\n",
       "      <td>34</td>\n",
       "      <td>28.600000</td>\n",
       "      <td>1964</td>\n",
       "      <td>Sean Connery</td>\n",
       "      <td>Honor Blackman</td>\n",
       "      <td>-5</td>\n",
       "      <td>5.400000</td>\n",
       "    </tr>\n",
       "    <tr>\n",
       "      <th>19</th>\n",
       "      <td>31</td>\n",
       "      <td>On Her Majesty's Secret Service</td>\n",
       "      <td>30</td>\n",
       "      <td>26.666667</td>\n",
       "      <td>1969</td>\n",
       "      <td>George Lazenby</td>\n",
       "      <td>Diana Rigg</td>\n",
       "      <td>-1</td>\n",
       "      <td>3.333333</td>\n",
       "    </tr>\n",
       "    <tr>\n",
       "      <th>66</th>\n",
       "      <td>51</td>\n",
       "      <td>Spectre</td>\n",
       "      <td>47</td>\n",
       "      <td>40.500000</td>\n",
       "      <td>2015</td>\n",
       "      <td>Daniel Craig</td>\n",
       "      <td>Monica Bellucci</td>\n",
       "      <td>-4</td>\n",
       "      <td>6.500000</td>\n",
       "    </tr>\n",
       "  </tbody>\n",
       "</table>\n",
       "</div>"
      ],
      "text/plain": [
       "    actress_age                       film_title  bond_actor_age  \\\n",
       "1            36                           Dr. No              32   \n",
       "2            35            From Russia with Love              33   \n",
       "10           39                       Goldfinger              34   \n",
       "19           31  On Her Majesty's Secret Service              30   \n",
       "66           51                          Spectre              47   \n",
       "\n",
       "    average_girl_age  year           actor          actress  difference  \\\n",
       "1          31.000000  1962    Sean Connery    Zena Marshall          -4   \n",
       "2          26.333333  1963    Sean Connery    Eunice Gayson          -2   \n",
       "10         28.600000  1964    Sean Connery   Honor Blackman          -5   \n",
       "19         26.666667  1969  George Lazenby       Diana Rigg          -1   \n",
       "66         40.500000  2015    Daniel Craig  Monica Bellucci          -4   \n",
       "\n",
       "    diff_avg  \n",
       "1   1.000000  \n",
       "2   6.666667  \n",
       "10  5.400000  \n",
       "19  3.333333  \n",
       "66  6.500000  "
      ]
     },
     "execution_count": 328,
     "metadata": {},
     "output_type": "execute_result"
    }
   ],
   "source": [
    "bond_girls.loc[bond_girls[\"actress_age\"]>bond_girls[\"bond_actor_age\"]]"
   ]
  },
  {
   "cell_type": "code",
   "execution_count": 329,
   "metadata": {},
   "outputs": [
    {
     "data": {
      "text/html": [
       "<div>\n",
       "<style scoped>\n",
       "    .dataframe tbody tr th:only-of-type {\n",
       "        vertical-align: middle;\n",
       "    }\n",
       "\n",
       "    .dataframe tbody tr th {\n",
       "        vertical-align: top;\n",
       "    }\n",
       "\n",
       "    .dataframe thead th {\n",
       "        text-align: right;\n",
       "    }\n",
       "</style>\n",
       "<table border=\"1\" class=\"dataframe\">\n",
       "  <thead>\n",
       "    <tr style=\"text-align: right;\">\n",
       "      <th></th>\n",
       "      <th>actress_age</th>\n",
       "      <th>film_title</th>\n",
       "      <th>bond_actor_age</th>\n",
       "      <th>average_girl_age</th>\n",
       "      <th>year</th>\n",
       "      <th>actor</th>\n",
       "      <th>actress</th>\n",
       "      <th>difference</th>\n",
       "      <th>diff_avg</th>\n",
       "    </tr>\n",
       "  </thead>\n",
       "  <tbody>\n",
       "    <tr>\n",
       "      <th>66</th>\n",
       "      <td>51</td>\n",
       "      <td>Spectre</td>\n",
       "      <td>47</td>\n",
       "      <td>40.5</td>\n",
       "      <td>2015</td>\n",
       "      <td>Daniel Craig</td>\n",
       "      <td>Monica Bellucci</td>\n",
       "      <td>-4</td>\n",
       "      <td>6.5</td>\n",
       "    </tr>\n",
       "  </tbody>\n",
       "</table>\n",
       "</div>"
      ],
      "text/plain": [
       "    actress_age film_title  bond_actor_age  average_girl_age  year  \\\n",
       "66           51    Spectre              47              40.5  2015   \n",
       "\n",
       "           actor          actress  difference  diff_avg  \n",
       "66  Daniel Craig  Monica Bellucci          -4       6.5  "
      ]
     },
     "execution_count": 329,
     "metadata": {},
     "output_type": "execute_result"
    }
   ],
   "source": [
    "bond_girls.loc[bond_girls[\"actress_age\"]>40]"
   ]
  },
  {
   "cell_type": "code",
   "execution_count": 330,
   "metadata": {},
   "outputs": [
    {
     "data": {
      "text/html": [
       "<div>\n",
       "<style scoped>\n",
       "    .dataframe tbody tr th:only-of-type {\n",
       "        vertical-align: middle;\n",
       "    }\n",
       "\n",
       "    .dataframe tbody tr th {\n",
       "        vertical-align: top;\n",
       "    }\n",
       "\n",
       "    .dataframe thead th {\n",
       "        text-align: right;\n",
       "    }\n",
       "</style>\n",
       "<table border=\"1\" class=\"dataframe\">\n",
       "  <thead>\n",
       "    <tr style=\"text-align: right;\">\n",
       "      <th></th>\n",
       "      <th>actress_age</th>\n",
       "      <th>film_title</th>\n",
       "      <th>bond_actor_age</th>\n",
       "      <th>average_girl_age</th>\n",
       "      <th>year</th>\n",
       "      <th>actor</th>\n",
       "      <th>actress</th>\n",
       "      <th>difference</th>\n",
       "      <th>diff_avg</th>\n",
       "    </tr>\n",
       "  </thead>\n",
       "  <tbody>\n",
       "    <tr>\n",
       "      <th>3</th>\n",
       "      <td>21</td>\n",
       "      <td>From Russia with Love</td>\n",
       "      <td>33</td>\n",
       "      <td>26.333333</td>\n",
       "      <td>1963</td>\n",
       "      <td>Sean Connery</td>\n",
       "      <td>Daniela Bianchi</td>\n",
       "      <td>12</td>\n",
       "      <td>6.666667</td>\n",
       "    </tr>\n",
       "    <tr>\n",
       "      <th>4</th>\n",
       "      <td>23</td>\n",
       "      <td>From Russia with Love</td>\n",
       "      <td>33</td>\n",
       "      <td>26.333333</td>\n",
       "      <td>1963</td>\n",
       "      <td>Sean Connery</td>\n",
       "      <td>Aliza Gur</td>\n",
       "      <td>10</td>\n",
       "      <td>6.666667</td>\n",
       "    </tr>\n",
       "    <tr>\n",
       "      <th>8</th>\n",
       "      <td>23</td>\n",
       "      <td>Thunderball</td>\n",
       "      <td>35</td>\n",
       "      <td>24.200000</td>\n",
       "      <td>1965</td>\n",
       "      <td>Sean Connery</td>\n",
       "      <td>Molly Peters</td>\n",
       "      <td>12</td>\n",
       "      <td>10.800000</td>\n",
       "    </tr>\n",
       "    <tr>\n",
       "      <th>9</th>\n",
       "      <td>22</td>\n",
       "      <td>Thunderball</td>\n",
       "      <td>35</td>\n",
       "      <td>24.200000</td>\n",
       "      <td>1965</td>\n",
       "      <td>Sean Connery</td>\n",
       "      <td>Maryse Guy Mitsouko</td>\n",
       "      <td>13</td>\n",
       "      <td>10.800000</td>\n",
       "    </tr>\n",
       "    <tr>\n",
       "      <th>12</th>\n",
       "      <td>23</td>\n",
       "      <td>Goldfinger</td>\n",
       "      <td>34</td>\n",
       "      <td>28.600000</td>\n",
       "      <td>1964</td>\n",
       "      <td>Sean Connery</td>\n",
       "      <td>Tania Mallet</td>\n",
       "      <td>11</td>\n",
       "      <td>5.400000</td>\n",
       "    </tr>\n",
       "    <tr>\n",
       "      <th>14</th>\n",
       "      <td>21</td>\n",
       "      <td>Goldfinger</td>\n",
       "      <td>34</td>\n",
       "      <td>28.600000</td>\n",
       "      <td>1964</td>\n",
       "      <td>Sean Connery</td>\n",
       "      <td>Margaret Nolan</td>\n",
       "      <td>13</td>\n",
       "      <td>5.400000</td>\n",
       "    </tr>\n",
       "    <tr>\n",
       "      <th>26</th>\n",
       "      <td>22</td>\n",
       "      <td>Live and Let Die</td>\n",
       "      <td>46</td>\n",
       "      <td>23.333333</td>\n",
       "      <td>1973</td>\n",
       "      <td>Roger Moore</td>\n",
       "      <td>Jane Seymour</td>\n",
       "      <td>24</td>\n",
       "      <td>22.666667</td>\n",
       "    </tr>\n",
       "    <tr>\n",
       "      <th>40</th>\n",
       "      <td>23</td>\n",
       "      <td>For Your Eyes Only</td>\n",
       "      <td>54</td>\n",
       "      <td>26.666667</td>\n",
       "      <td>1981</td>\n",
       "      <td>Roger Moore</td>\n",
       "      <td>Lynn Holly Johnson</td>\n",
       "      <td>31</td>\n",
       "      <td>27.333333</td>\n",
       "    </tr>\n",
       "    <tr>\n",
       "      <th>47</th>\n",
       "      <td>22</td>\n",
       "      <td>Licence to Kill</td>\n",
       "      <td>43</td>\n",
       "      <td>25.000000</td>\n",
       "      <td>1989</td>\n",
       "      <td>Timothy Dalton</td>\n",
       "      <td>Talisa Soto</td>\n",
       "      <td>21</td>\n",
       "      <td>18.000000</td>\n",
       "    </tr>\n",
       "    <tr>\n",
       "      <th>53</th>\n",
       "      <td>23</td>\n",
       "      <td>Tomorrow Never Dies</td>\n",
       "      <td>44</td>\n",
       "      <td>30.333333</td>\n",
       "      <td>1997</td>\n",
       "      <td>Pierce Brosnan</td>\n",
       "      <td>Cecilie Thomsen</td>\n",
       "      <td>21</td>\n",
       "      <td>13.666667</td>\n",
       "    </tr>\n",
       "    <tr>\n",
       "      <th>58</th>\n",
       "      <td>23</td>\n",
       "      <td>Die Another Day</td>\n",
       "      <td>49</td>\n",
       "      <td>28.000000</td>\n",
       "      <td>2002</td>\n",
       "      <td>Pierce Brosnan</td>\n",
       "      <td>Rosamund Pike</td>\n",
       "      <td>26</td>\n",
       "      <td>21.000000</td>\n",
       "    </tr>\n",
       "    <tr>\n",
       "      <th>63</th>\n",
       "      <td>22</td>\n",
       "      <td>Quantum of Solace</td>\n",
       "      <td>40</td>\n",
       "      <td>25.500000</td>\n",
       "      <td>2008</td>\n",
       "      <td>Daniel Craig</td>\n",
       "      <td>Gemma Arterton</td>\n",
       "      <td>18</td>\n",
       "      <td>14.500000</td>\n",
       "    </tr>\n",
       "  </tbody>\n",
       "</table>\n",
       "</div>"
      ],
      "text/plain": [
       "    actress_age             film_title  bond_actor_age  average_girl_age  \\\n",
       "3            21  From Russia with Love              33         26.333333   \n",
       "4            23  From Russia with Love              33         26.333333   \n",
       "8            23            Thunderball              35         24.200000   \n",
       "9            22            Thunderball              35         24.200000   \n",
       "12           23             Goldfinger              34         28.600000   \n",
       "14           21             Goldfinger              34         28.600000   \n",
       "26           22       Live and Let Die              46         23.333333   \n",
       "40           23     For Your Eyes Only              54         26.666667   \n",
       "47           22        Licence to Kill              43         25.000000   \n",
       "53           23    Tomorrow Never Dies              44         30.333333   \n",
       "58           23        Die Another Day              49         28.000000   \n",
       "63           22      Quantum of Solace              40         25.500000   \n",
       "\n",
       "    year           actor              actress  difference   diff_avg  \n",
       "3   1963    Sean Connery      Daniela Bianchi          12   6.666667  \n",
       "4   1963    Sean Connery            Aliza Gur          10   6.666667  \n",
       "8   1965    Sean Connery         Molly Peters          12  10.800000  \n",
       "9   1965    Sean Connery  Maryse Guy Mitsouko          13  10.800000  \n",
       "12  1964    Sean Connery         Tania Mallet          11   5.400000  \n",
       "14  1964    Sean Connery       Margaret Nolan          13   5.400000  \n",
       "26  1973     Roger Moore         Jane Seymour          24  22.666667  \n",
       "40  1981     Roger Moore   Lynn Holly Johnson          31  27.333333  \n",
       "47  1989  Timothy Dalton          Talisa Soto          21  18.000000  \n",
       "53  1997  Pierce Brosnan      Cecilie Thomsen          21  13.666667  \n",
       "58  2002  Pierce Brosnan        Rosamund Pike          26  21.000000  \n",
       "63  2008    Daniel Craig       Gemma Arterton          18  14.500000  "
      ]
     },
     "execution_count": 330,
     "metadata": {},
     "output_type": "execute_result"
    }
   ],
   "source": [
    "bond_girls.loc[bond_girls[\"actress_age\"]<24]"
   ]
  },
  {
   "cell_type": "code",
   "execution_count": 331,
   "metadata": {},
   "outputs": [
    {
     "data": {
      "text/html": [
       "<div>\n",
       "<style scoped>\n",
       "    .dataframe tbody tr th:only-of-type {\n",
       "        vertical-align: middle;\n",
       "    }\n",
       "\n",
       "    .dataframe tbody tr th {\n",
       "        vertical-align: top;\n",
       "    }\n",
       "\n",
       "    .dataframe thead th {\n",
       "        text-align: right;\n",
       "    }\n",
       "</style>\n",
       "<table border=\"1\" class=\"dataframe\">\n",
       "  <thead>\n",
       "    <tr style=\"text-align: right;\">\n",
       "      <th></th>\n",
       "      <th>actress_age</th>\n",
       "      <th>bond_actor_age</th>\n",
       "      <th>average_girl_age</th>\n",
       "      <th>year</th>\n",
       "      <th>difference</th>\n",
       "      <th>diff_avg</th>\n",
       "    </tr>\n",
       "  </thead>\n",
       "  <tbody>\n",
       "    <tr>\n",
       "      <th>count</th>\n",
       "      <td>71.000000</td>\n",
       "      <td>71.000000</td>\n",
       "      <td>71.000000</td>\n",
       "      <td>71.000000</td>\n",
       "      <td>71.000000</td>\n",
       "      <td>71.000000</td>\n",
       "    </tr>\n",
       "    <tr>\n",
       "      <th>mean</th>\n",
       "      <td>28.915493</td>\n",
       "      <td>43.140845</td>\n",
       "      <td>28.915493</td>\n",
       "      <td>1983.169014</td>\n",
       "      <td>14.225352</td>\n",
       "      <td>14.225352</td>\n",
       "    </tr>\n",
       "    <tr>\n",
       "      <th>std</th>\n",
       "      <td>5.546547</td>\n",
       "      <td>7.841822</td>\n",
       "      <td>3.524390</td>\n",
       "      <td>17.592195</td>\n",
       "      <td>8.176966</td>\n",
       "      <td>6.965624</td>\n",
       "    </tr>\n",
       "    <tr>\n",
       "      <th>min</th>\n",
       "      <td>21.000000</td>\n",
       "      <td>30.000000</td>\n",
       "      <td>23.333333</td>\n",
       "      <td>1962.000000</td>\n",
       "      <td>-5.000000</td>\n",
       "      <td>1.000000</td>\n",
       "    </tr>\n",
       "    <tr>\n",
       "      <th>25%</th>\n",
       "      <td>24.000000</td>\n",
       "      <td>36.000000</td>\n",
       "      <td>26.666667</td>\n",
       "      <td>1967.000000</td>\n",
       "      <td>9.500000</td>\n",
       "      <td>9.000000</td>\n",
       "    </tr>\n",
       "    <tr>\n",
       "      <th>50%</th>\n",
       "      <td>28.000000</td>\n",
       "      <td>43.000000</td>\n",
       "      <td>28.600000</td>\n",
       "      <td>1979.000000</td>\n",
       "      <td>13.000000</td>\n",
       "      <td>13.000000</td>\n",
       "    </tr>\n",
       "    <tr>\n",
       "      <th>75%</th>\n",
       "      <td>33.000000</td>\n",
       "      <td>49.000000</td>\n",
       "      <td>30.333333</td>\n",
       "      <td>1997.000000</td>\n",
       "      <td>20.500000</td>\n",
       "      <td>19.666667</td>\n",
       "    </tr>\n",
       "    <tr>\n",
       "      <th>max</th>\n",
       "      <td>51.000000</td>\n",
       "      <td>58.000000</td>\n",
       "      <td>40.500000</td>\n",
       "      <td>2021.000000</td>\n",
       "      <td>31.000000</td>\n",
       "      <td>27.333333</td>\n",
       "    </tr>\n",
       "  </tbody>\n",
       "</table>\n",
       "</div>"
      ],
      "text/plain": [
       "       actress_age  bond_actor_age  average_girl_age         year  difference  \\\n",
       "count    71.000000       71.000000         71.000000    71.000000   71.000000   \n",
       "mean     28.915493       43.140845         28.915493  1983.169014   14.225352   \n",
       "std       5.546547        7.841822          3.524390    17.592195    8.176966   \n",
       "min      21.000000       30.000000         23.333333  1962.000000   -5.000000   \n",
       "25%      24.000000       36.000000         26.666667  1967.000000    9.500000   \n",
       "50%      28.000000       43.000000         28.600000  1979.000000   13.000000   \n",
       "75%      33.000000       49.000000         30.333333  1997.000000   20.500000   \n",
       "max      51.000000       58.000000         40.500000  2021.000000   31.000000   \n",
       "\n",
       "        diff_avg  \n",
       "count  71.000000  \n",
       "mean   14.225352  \n",
       "std     6.965624  \n",
       "min     1.000000  \n",
       "25%     9.000000  \n",
       "50%    13.000000  \n",
       "75%    19.666667  \n",
       "max    27.333333  "
      ]
     },
     "execution_count": 331,
     "metadata": {},
     "output_type": "execute_result"
    }
   ],
   "source": [
    "\n",
    "bond_girls.describe()"
   ]
  },
  {
   "cell_type": "code",
   "execution_count": 332,
   "metadata": {},
   "outputs": [
    {
     "data": {
      "text/plain": [
       "array(['Sean Connery', 'George Lazenby', 'Roger Moore', 'Timothy Dalton',\n",
       "       'Pierce Brosnan', 'Daniel Craig'], dtype=object)"
      ]
     },
     "execution_count": 332,
     "metadata": {},
     "output_type": "execute_result"
    }
   ],
   "source": [
    "bond_girls['actor'].unique()\n"
   ]
  }
 ],
 "metadata": {
  "interpreter": {
   "hash": "2cb9b7d5b68f4bfebe37bd14371b74a26c7634c91bad2bd7203be20ef753368a"
  },
  "kernelspec": {
   "display_name": "Python 3.6.13 64-bit ('PythonData': conda)",
   "language": "python",
   "name": "python3"
  },
  "language_info": {
   "codemirror_mode": {
    "name": "ipython",
    "version": 3
   },
   "file_extension": ".py",
   "mimetype": "text/x-python",
   "name": "python",
   "nbconvert_exporter": "python",
   "pygments_lexer": "ipython3",
   "version": "3.6.13"
  },
  "orig_nbformat": 4
 },
 "nbformat": 4,
 "nbformat_minor": 2
}
